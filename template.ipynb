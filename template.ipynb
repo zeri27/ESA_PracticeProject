{
 "cells": [
  {
   "cell_type": "markdown",
   "metadata": {},
   "source": [
    "### Digit Recognition Project"
   ]
  },
  {
   "cell_type": "code",
   "metadata": {
    "ExecuteTime": {
     "end_time": "2024-11-21T09:01:56.660569Z",
     "start_time": "2024-11-21T09:01:56.580882Z"
    }
   },
   "source": [
    "import numpy as np\n",
    "import pandas as pd\n",
    "\n",
    "from sklearn.tree import DecisionTreeClassifier\n",
    "from sklearn.neighbors import KNeighborsClassifier\n",
    "from sklearn.svm import SVC\n",
    "from sklearn.linear_model import SGDClassifier\n",
    "\n",
    "import matplotlib.pyplot as plt"
   ],
   "outputs": [],
   "execution_count": null
  },
  {
   "cell_type": "markdown",
   "metadata": {},
   "source": [
    "### Load data"
   ]
  },
  {
   "cell_type": "code",
   "metadata": {
    "ExecuteTime": {
     "end_time": "2024-11-21T09:01:58.772452Z",
     "start_time": "2024-11-21T09:01:58.740713Z"
    }
   },
   "source": [
    "labeled_images = np.load(\"labeled_images.npy\")\n",
    "labeled_digits = np.load(\"labeled_digits.npy\")\n",
    "\n",
    "autograder_images = np.load(\"autograder_images.npy\")"
   ],
   "outputs": [],
   "execution_count": null
  },
  {
   "cell_type": "code",
   "metadata": {
    "ExecuteTime": {
     "end_time": "2024-11-21T09:02:00.757604Z",
     "start_time": "2024-11-21T09:02:00.724564Z"
    }
   },
   "source": [
    "# this is an array containing all the 3750 images of size 28 times 28 pixels:\n",
    "labeled_images.shape"
   ],
   "outputs": [],
   "execution_count": null
  },
  {
   "cell_type": "code",
   "metadata": {
    "ExecuteTime": {
     "end_time": "2024-11-21T09:02:02.669658Z",
     "start_time": "2024-11-21T09:02:02.658186Z"
    }
   },
   "source": [
    "# this is an array containing the digit corresponding to each image:\n",
    "labeled_digits[0:10]"
   ],
   "outputs": [],
   "execution_count": null
  },
  {
   "cell_type": "code",
   "source": [
    "# Number of images to display\n",
    "num_images = 10\n",
    "\n",
    "# Set up the plot\n",
    "plt.figure(figsize=(10, 10))\n",
    "for i in range(num_images):\n",
    "    # Create a subplot for each image\n",
    "    plt.subplot(1, num_images, i + 1)\n",
    "    # Display the image (assuming grayscale)\n",
    "    plt.imshow(labeled_images[i], cmap='gray')\n",
    "    # Turn off axis labels\n",
    "    plt.axis('off')\n",
    "plt.show()"
   ],
   "metadata": {
    "collapsed": false,
    "ExecuteTime": {
     "end_time": "2024-11-21T09:02:05.489987Z",
     "start_time": "2024-11-21T09:02:04.889371Z"
    }
   },
   "outputs": [],
   "execution_count": null
  },
  {
   "cell_type": "markdown",
   "source": [
    "### K-Nearest Neighbors Classifier"
   ],
   "metadata": {
    "collapsed": false
   }
  },
  {
   "cell_type": "code",
   "execution_count": null,
   "outputs": [],
   "source": [],
   "metadata": {
    "collapsed": false
   }
  },
  {
   "cell_type": "markdown",
   "source": [
    "### Logistic Regression Classifier"
   ],
   "metadata": {
    "collapsed": false
   }
  },
  {
   "metadata": {
    "ExecuteTime": {
     "end_time": "2024-11-21T13:37:06.415319Z",
     "start_time": "2024-11-21T13:36:27.730746Z"
    }
   },
   "cell_type": "code",
   "source": [],
   "outputs": [
    {
     "name": "stdout",
     "output_type": "stream",
     "text": [
      "{'logistic__fit_intercept': True}\n"
     ]
    },
    {
     "data": {
      "text/plain": [
       "0.8880597014925373"
      ]
     },
     "execution_count": 48,
     "metadata": {},
     "output_type": "execute_result"
    }
   ],
   "execution_count": 48
  },
  {
   "cell_type": "markdown",
   "source": [
    "### Support Vector Machine Classifier"
   ],
   "metadata": {
    "collapsed": false
   }
  },
  {
   "cell_type": "code",
   "execution_count": null,
   "outputs": [],
   "source": [
    "# Preprocess the Data\n",
    "labeled_images_flat = labeled_images.reshape(3750, -1)\n",
    "labeled_images_flat = labeled_images_flat / 255.0\n",
    "autograder_images_flat = autograder_images.reshape(len(autograder_images), -1) / 255.0\n",
    "\n",
    "# Split the data\n",
    "from sklearn.model_selection import train_test_split\n",
    "X_train, X_test, y_train, y_test = train_test_split(\n",
    "    labeled_images_flat, labeled_digits, test_size=0.2)\n",
    "print(len(X_train))\n",
    "print(len(X_test))\n",
    "\n",
    "### Train the SVM classifier\n",
    "svm_model = SVC(kernel='rbf', C=1.0, gamma='scale')\n",
    "svm_model.fit(X_train, y_train)\n",
    "\n",
    "# Test the SVM Classifier (Accuracy)\n",
    "from sklearn.metrics import accuracy_score\n",
    "y_pred = svm_model.predict(X_test)\n",
    "accuracy = accuracy_score(y_test, y_pred)\n",
    "print(accuracy)\n",
    "\n",
    "# Use SVM Classifier on the Autograder dataset\n",
    "#prediction = svm_model.predict(autograder_images_flat)\n",
    "#result = np.append(accuracy, prediction)\n",
    "#pd.DataFrame(result).to_csv(\"autograder.txt\", index=False, header=False)"
   ],
   "metadata": {
    "collapsed": false
   }
  },
  {
   "cell_type": "markdown",
   "source": [
    "### Decision Tree"
   ],
   "metadata": {
    "collapsed": false
   }
  },
  {
   "cell_type": "code",
   "source": [],
   "metadata": {
    "collapsed": false,
    "ExecuteTime": {
     "end_time": "2024-11-21T09:17:47.182951Z",
     "start_time": "2024-11-21T09:17:44.828566Z"
    }
   },
   "outputs": [],
   "execution_count": null
  },
  {
   "cell_type": "markdown",
   "metadata": {},
   "source": [
    "### Prepare autograder submission"
   ]
  },
  {
   "cell_type": "markdown",
   "metadata": {},
   "source": [
    "In the autograder you will need to provide two things: 1) estimate of the accuracy of your model on unseen data, 2) the predictions on the autograder images. For the autograder images we only provide the images and not the class labels. Thus, you cannot compute the accuracy on this data yourself - you need to estimate that with labeled data that is provided (labeled_images, labeled_digits). We will calculate the accuracy for you on the autograder data and you will receive an automatic grade based on this. "
   ]
  },
  {
   "cell_type": "code",
   "execution_count": null,
   "metadata": {},
   "outputs": [],
   "source": [
    "estimate = np.array([0.7]) # TODO Replace this with your estimate of the accuracy on new data\n",
    "prediction = np.array([-1] * len(autograder_images)) # TODO Replace this with your predictions of your best model\n",
    "# For example using something like:\n",
    "# prediction = my_super_duper_model.predict(autograder_images) \n",
    "\n",
    "result = np.append(estimate, prediction)\n",
    "\n",
    "# The code below will write your estimate and prediction to a file named autograder.txt\n",
    "# You will need to upload this file to the Vocareum autograder\n",
    "pd.DataFrame(result).to_csv(\"autograder.txt\", index=False, header=False)"
   ]
  }
 ],
 "metadata": {
  "kernelspec": {
   "display_name": "AI_minor_ML_course",
   "language": "python",
   "name": "python3"
  },
  "language_info": {
   "codemirror_mode": {
    "name": "ipython",
    "version": 3
   },
   "file_extension": ".py",
   "mimetype": "text/x-python",
   "name": "python",
   "nbconvert_exporter": "python",
   "pygments_lexer": "ipython3",
   "version": "3.10.14"
  }
 },
 "nbformat": 4,
 "nbformat_minor": 4
}
