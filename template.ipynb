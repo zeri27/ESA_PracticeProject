{
 "cells": [
  {
   "cell_type": "markdown",
   "metadata": {},
   "source": [
    "### Digit Recognition Project"
   ]
  },
  {
   "cell_type": "code",
   "metadata": {
    "ExecuteTime": {
     "end_time": "2024-11-21T09:01:56.660569Z",
     "start_time": "2024-11-21T09:01:56.580882Z"
    }
   },
   "source": [
    "import numpy as np\n",
    "import pandas as pd\n",
    "\n",
    "from sklearn.tree import DecisionTreeClassifier\n",
    "from sklearn.neighbors import KNeighborsClassifier\n",
    "from sklearn.svm import SVC\n",
    "from sklearn.linear_model import SGDClassifier\n",
    "\n",
    "import matplotlib.pyplot as plt"
   ],
   "outputs": [],
   "execution_count": null
  },
  {
   "cell_type": "markdown",
   "metadata": {},
   "source": [
    "### Load data"
   ]
  },
  {
   "cell_type": "code",
   "metadata": {
    "ExecuteTime": {
     "end_time": "2024-11-21T09:01:58.772452Z",
     "start_time": "2024-11-21T09:01:58.740713Z"
    }
   },
   "source": [
    "labeled_images = np.load(\"labeled_images.npy\")\n",
    "labeled_digits = np.load(\"labeled_digits.npy\")\n",
    "\n",
    "autograder_images = np.load(\"autograder_images.npy\")"
   ],
   "outputs": [],
   "execution_count": null
  },
  {
   "cell_type": "code",
   "metadata": {
    "ExecuteTime": {
     "end_time": "2024-11-21T09:02:00.757604Z",
     "start_time": "2024-11-21T09:02:00.724564Z"
    }
   },
   "source": [
    "# this is an array containing all the 3750 images of size 28 times 28 pixels:\n",
    "labeled_images.shape"
   ],
   "outputs": [],
   "execution_count": null
  },
  {
   "cell_type": "code",
   "metadata": {
    "ExecuteTime": {
     "end_time": "2024-11-21T09:02:02.669658Z",
     "start_time": "2024-11-21T09:02:02.658186Z"
    }
   },
   "source": [
    "# this is an array containing the digit corresponding to each image:\n",
    "labeled_digits[0:10]"
   ],
   "outputs": [],
   "execution_count": null
  },
  {
   "cell_type": "code",
   "source": [
    "# Number of images to display\n",
    "num_images = 10\n",
    "\n",
    "# Set up the plot\n",
    "plt.figure(figsize=(10, 10))\n",
    "for i in range(num_images):\n",
    "    # Create a subplot for each image\n",
    "    plt.subplot(1, num_images, i + 1)\n",
    "    # Display the image (assuming grayscale)\n",
    "    plt.imshow(labeled_images[i], cmap='gray')\n",
    "    # Turn off axis labels\n",
    "    plt.axis('off')\n",
    "plt.show()"
   ],
   "metadata": {
    "collapsed": false,
    "ExecuteTime": {
     "end_time": "2024-11-21T09:02:05.489987Z",
     "start_time": "2024-11-21T09:02:04.889371Z"
    }
   },
   "outputs": [],
   "execution_count": null
  },
  {
   "cell_type": "markdown",
   "source": [
    "### K-Nearest Neighbors Classifier"
   ],
   "metadata": {
    "collapsed": false
   }
  },
  {
   "cell_type": "code",
   "execution_count": null,
   "outputs": [],
   "source": [],
   "metadata": {
    "collapsed": false
   }
  },
  {
   "cell_type": "markdown",
   "source": [
    "### Logistic Regression Classifier"
   ],
   "metadata": {
    "collapsed": false
   }
  },
  {
   "metadata": {
    "ExecuteTime": {
     "end_time": "2024-11-21T12:56:23.913805Z",
     "start_time": "2024-11-21T12:55:45.960595Z"
    }
   },
   "cell_type": "code",
   "source": [
    "from sklearn.linear_model import LogisticRegression\n",
    "from sklearn.model_selection import train_test_split\n",
    "from sklearn.preprocessing import StandardScaler\n",
    "from sklearn.pipeline import Pipeline\n",
    "from sklearn.model_selection import GridSearchCV\n",
    "from sklearn.linear_model import SGDClassifier\n",
    "\n",
    "x = labeled_images.reshape(labeled_images.shape[0], -1)\n",
    "X_train, X_test, y_train, y_test = train_test_split(x, labeled_digits, random_state=0)\n",
    "pipe = Pipeline([('scaler', StandardScaler()), \n",
    "                 ('logistic', \n",
    "                  # LogisticRegression(max_iter = 150)\n",
    "                    SGDClassifier(loss=\"log_loss\", max_iter=1000, tol=1e-3)\n",
    "                  )\n",
    "                 ])\n",
    "#pipe.fit(X_train, y_train).score(X_test, y_test)\n",
    "\n",
    "param_grid = {\n",
    "    'logistic__fit_intercept': [True, False],\n",
    "}\n",
    "\n",
    "grid = GridSearchCV(pipe, n_jobs=1, param_grid=param_grid, cv=5,\n",
    "                            scoring='accuracy')\n",
    "grid.fit(X_train, y_train)\n",
    "print(grid.best_params_)\n",
    "grid.score(X_test, y_test)"
   ],
   "outputs": [],
   "execution_count": null
  },
  {
   "metadata": {},
   "cell_type": "code",
   "outputs": [],
   "execution_count": null,
   "source": [
    "# import pandas as pd\n",
    "# \n",
    "# mean_scores = np.array(grid.cv_results_[\"mean_test_score\"])\n",
    "# mean_scores = mean_scores.reshape(len(C_OPTIONS), -1, len(N_FEATURES_OPTIONS))\n",
    "# mean_scores = mean_scores.max(axis=0)\n",
    "# mean_scores = pd.DataFrame(\n",
    "#     mean_scores.T, index=N_FEATURES_OPTIONS, columns=reducer_labels\n",
    "# )\n",
    "# ax = mean_scores.plot.bar()\n",
    "# ax.set_title(\"Comparing feature reduction techniques\")\n",
    "# ax.set_xlabel(\"Reduced number of features\")\n",
    "# ax.set_ylabel(\"Digit classification accuracy\")\n",
    "# ax.set_ylim((0, 1))\n",
    "# ax.legend(loc=\"upper left\")\n",
    "# plt.show()"
   ]
  },
  {
   "metadata": {
    "ExecuteTime": {
     "end_time": "2024-11-21T09:05:44.129324Z",
     "start_time": "2024-11-21T09:05:44.105720Z"
    }
   },
   "cell_type": "code",
   "source": [
    "from sklearn.dummy import DummyClassifier\n",
    "from sklearn.model_selection import cross_val_score\n",
    "\n",
    "clf = DummyClassifier(strategy='most_frequent', random_state=0)\n",
    "dummy_cv_scores = cross_val_score(clf, X_train, y_train, cv=5)\n",
    "print(dummy_cv_scores)\n",
    "clf.fit(X_train, y_train)\n",
    "clf.score(X_test, y_test)"
   ],
   "outputs": [],
   "execution_count": null
  },
  {
   "metadata": {},
   "cell_type": "code",
   "outputs": [],
   "execution_count": null,
   "source": [
    "from sklearn import preprocessing\n",
    "import numpy as np\n",
    "X_train = np.array([[ 1., -1.,  2.],\n",
    "                    [ 2.,  0.,  0.],\n",
    "                    [ 0.,  1., -1.]])\n",
    "scaler = preprocessing.StandardScaler().fit(X_train)\n",
    "# scaler\n",
    "# scaler.mean_\n",
    "# scaler.scale_\n",
    "X_scaled = scaler.transform(X_train)\n",
    "X_scaled"
   ]
  },
  {
   "metadata": {
    "collapsed": false,
    "ExecuteTime": {
     "end_time": "2024-11-15T08:36:26.555906Z",
     "start_time": "2024-11-15T08:36:25.583568Z"
    }
   },
   "cell_type": "code",
   "outputs": [],
   "execution_count": null,
   "source": [
    "# y_pred = clf.predict(x)\n",
    "# accuracy = np.mean(y_pred == labeled_digits)\n",
    "# print('Accuracy on the training set:', accuracy)\n",
    "# y_pred = clf.predict(X_test)\n",
    "# accuracy = np.mean(y_pred == y_test)\n",
    "# print('Accuracy on the test set:', accuracy)"
   ]
  },
  {
   "cell_type": "markdown",
   "source": [
    "### Support Vector Machine Classifier"
   ],
   "metadata": {
    "collapsed": false
   }
  },
  {
   "cell_type": "code",
   "execution_count": null,
   "outputs": [],
   "source": [
    "# Preprocess the Data\n",
    "labeled_images_flat = labeled_images.reshape(3750, -1)\n",
    "labeled_images_flat = labeled_images_flat / 255.0\n",
    "autograder_images_flat = autograder_images.reshape(len(autograder_images), -1) / 255.0\n",
    "\n",
    "# Split the data\n",
    "from sklearn.model_selection import train_test_split\n",
    "X_train, X_test, y_train, y_test = train_test_split(\n",
    "    labeled_images_flat, labeled_digits, test_size=0.2)\n",
    "print(len(X_train))\n",
    "print(len(X_test))\n",
    "\n",
    "### Train the SVM classifier\n",
    "svm_model = SVC(kernel='rbf', C=1.0, gamma='scale')\n",
    "svm_model.fit(X_train, y_train)\n",
    "\n",
    "# Test the SVM Classifier (Accuracy)\n",
    "from sklearn.metrics import accuracy_score\n",
    "y_pred = svm_model.predict(X_test)\n",
    "accuracy = accuracy_score(y_test, y_pred)\n",
    "print(accuracy)\n",
    "\n",
    "# Use SVM Classifier on the Autograder dataset\n",
    "#prediction = svm_model.predict(autograder_images_flat)\n",
    "#result = np.append(accuracy, prediction)\n",
    "#pd.DataFrame(result).to_csv(\"autograder.txt\", index=False, header=False)"
   ],
   "metadata": {
    "collapsed": false
   }
  },
  {
   "cell_type": "markdown",
   "source": [
    "### Decision Tree"
   ],
   "metadata": {
    "collapsed": false
   }
  },
  {
   "cell_type": "code",
   "source": [
    "from sklearn.model_selection import train_test_split\n",
    "from sklearn.preprocessing import StandardScaler\n",
    "from sklearn.pipeline import Pipeline\n",
    "from sklearn.model_selection import GridSearchCV\n",
    "\n",
    "x = labeled_images.reshape(labeled_images.shape[0], -1)\n",
    "X_train, X_test, y_train, y_test = train_test_split(x, labeled_digits, random_state=0)\n",
    "pipe = Pipeline([('scaler', StandardScaler()), \n",
    "                 ('decision', \n",
    "                    DecisionTreeClassifier()\n",
    "                  )\n",
    "                 ])\n",
    "\n",
    "param_grid = {\n",
    "    # 'decision__fit_intercept': [True, False],\n",
    "}\n",
    "\n",
    "grid = GridSearchCV(pipe, n_jobs=1, param_grid=param_grid, cv=5,\n",
    "                            scoring='accuracy')\n",
    "grid.fit(X_train, y_train)\n",
    "print(grid.best_params_)\n",
    "grid.score(X_test, y_test)"
   ],
   "metadata": {
    "collapsed": false,
    "ExecuteTime": {
     "end_time": "2024-11-21T09:17:47.182951Z",
     "start_time": "2024-11-21T09:17:44.828566Z"
    }
   },
   "outputs": [],
   "execution_count": null
  },
  {
   "metadata": {
    "ExecuteTime": {
     "end_time": "2024-11-21T09:17:53.121350Z",
     "start_time": "2024-11-21T09:17:53.092846Z"
    }
   },
   "cell_type": "code",
   "source": [
    "from sklearn.dummy import DummyClassifier\n",
    "from sklearn.model_selection import cross_val_score\n",
    "\n",
    "clf = DummyClassifier(strategy='most_frequent', random_state=0)\n",
    "dummy_cv_scores = cross_val_score(clf, X_train, y_train, cv=5)\n",
    "print(dummy_cv_scores)\n",
    "clf.fit(X_train, y_train)\n",
    "clf.score(X_test, y_test)"
   ],
   "outputs": [],
   "execution_count": null
  },
  {
   "cell_type": "markdown",
   "metadata": {},
   "source": [
    "### Prepare autograder submission"
   ]
  },
  {
   "cell_type": "markdown",
   "metadata": {},
   "source": [
    "In the autograder you will need to provide two things: 1) estimate of the accuracy of your model on unseen data, 2) the predictions on the autograder images. For the autograder images we only provide the images and not the class labels. Thus, you cannot compute the accuracy on this data yourself - you need to estimate that with labeled data that is provided (labeled_images, labeled_digits). We will calculate the accuracy for you on the autograder data and you will receive an automatic grade based on this. "
   ]
  },
  {
   "cell_type": "code",
   "execution_count": null,
   "metadata": {},
   "outputs": [],
   "source": [
    "estimate = np.array([0.7]) # TODO Replace this with your estimate of the accuracy on new data\n",
    "prediction = np.array([-1] * len(autograder_images)) # TODO Replace this with your predictions of your best model\n",
    "# For example using something like:\n",
    "# prediction = my_super_duper_model.predict(autograder_images) \n",
    "\n",
    "result = np.append(estimate, prediction)\n",
    "\n",
    "# The code below will write your estimate and prediction to a file named autograder.txt\n",
    "# You will need to upload this file to the Vocareum autograder\n",
    "pd.DataFrame(result).to_csv(\"autograder.txt\", index=False, header=False)"
   ]
  }
 ],
 "metadata": {
  "kernelspec": {
   "display_name": "AI_minor_ML_course",
   "language": "python",
   "name": "python3"
  },
  "language_info": {
   "codemirror_mode": {
    "name": "ipython",
    "version": 3
   },
   "file_extension": ".py",
   "mimetype": "text/x-python",
   "name": "python",
   "nbconvert_exporter": "python",
   "pygments_lexer": "ipython3",
   "version": "3.10.14"
  }
 },
 "nbformat": 4,
 "nbformat_minor": 4
}
